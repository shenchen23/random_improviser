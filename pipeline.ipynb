{
 "cells": [
  {
   "cell_type": "markdown",
   "metadata": {},
   "source": [
    "## functionalities\n",
    "\n",
    "1. build a backing track, specify functional harmony, then generate improvisation.\n",
    "* notes\n",
    "* rhythm\n",
    "\n",
    "2. given a backing track defined, do reharmonization.\n",
    "\n",
    "3. given a chord and a corresponding chord name, figure out the closest chord in terms of voicing."
   ]
  },
  {
   "cell_type": "code",
   "execution_count": 1,
   "metadata": {},
   "outputs": [
    {
     "name": "stdout",
     "output_type": "stream",
     "text": [
      "pygame 2.0.1 (SDL 2.0.14, Python 3.8.5)\n",
      "Hello from the pygame community. https://www.pygame.org/contribute.html\n"
     ]
    }
   ],
   "source": [
    "from midiutil import MIDIFile\n",
    "import numpy as np\n",
    "import pygame\n",
    "import pandas as pd\n",
    "from collections import deque \n",
    "from functools import reduce\n"
   ]
  },
  {
   "cell_type": "markdown",
   "metadata": {},
   "source": [
    "## what is a note:\n",
    "\n",
    "note has properties of:\n",
    "* name: A B C D \n",
    "* shift and n: actual numbers\n",
    "* spectrum\n",
    "\n"
   ]
  },
  {
   "cell_type": "markdown",
   "metadata": {},
   "source": [
    "## what is a chord/mode\n",
    "\n",
    "it's a lot more complicated. Let's start with use cases.\n",
    "\n",
    "When formulating a song, the input would always be using modes first. i.e.:\n",
    "\n",
    "* We're in C Ionian key, the chord progression is IV, III, II, I.\n",
    "* Sometimes we can add secondary dominance. F Ionian(II V)C Ionian(IV III II I).\n",
    "* Sometimes we can even add more passing chords that points to no modes. It's just a brush of color.\n",
    "* Even when the chords are in the mode, we can do alternation. For example V alt dominant chord.\n",
    "\n",
    "So there are two ways to set up chord progressions:\n",
    "\n",
    "1. functional harmony framework, with the freedom of altered notes\n",
    "2. non-functional chords\n",
    "\n"
   ]
  },
  {
   "cell_type": "markdown",
   "metadata": {},
   "source": [
    "1. modeling basic music components.\n",
    "2. design input and output and add-ins. \n",
    "3. Variations, pattern recognition\n",
    "\n",
    "* Input would be formulating a song. \n",
    "* Output would be midi files as well as a dataframe to represent the song and solos.\n",
    "* add-ins: customized patterns for backing tracks.\n",
    "* Pattern\n",
    "\n",
    "voicing module is for customized chord voicings and\n",
    "\n",
    "\n",
    "A solo module."
   ]
  },
  {
   "cell_type": "code",
   "execution_count": 2,
   "metadata": {},
   "outputs": [],
   "source": [
    "# a systematic representation of the known knowledge makes me appreciate more about the \"stars\" for real music. \n",
    "\n",
    "# Understand the limitations to push the boundaries."
   ]
  },
  {
   "cell_type": "code",
   "execution_count": 3,
   "metadata": {},
   "outputs": [],
   "source": [
    "class Note:\n",
    "    \"\"\"\n",
    "    name is the note of a chord.\n",
    "    n represent relative location in the twelve equal temperament\n",
    "    shift = 0 means 4th octave.\n",
    "    \"\"\"\n",
    "    def __init__(self,name=None,n=None,shift=0,*args, **kwargs):\n",
    "        note_name_l = ['C','C#','Db','D','D#',\\\n",
    "                              'Eb','E','F','F#','Gb','G','G#','Ab','A','A#','Bb','B']\n",
    "        note_loc_l = [0, 1, 1, 2, 3, 3, 4, 5, 6, 6, 7, 8, 8, 9, 10, 10, 11]\n",
    "        convert_dict = dict(zip(note_name_l,note_loc_l))\n",
    "        rev_convert_dict = dict(zip(note_loc_l,note_name_l))\n",
    "        if name and (n is None):\n",
    "            self.name = name\n",
    "            self.shift = shift\n",
    "            self.n = convert_dict[self.name]+(self.shift+5)*12\n",
    "        elif (n is not None) and (name is None):\n",
    "            self.n = n%12\n",
    "            if shift is None:\n",
    "                self.shift = n//12-5\n",
    "            else:\n",
    "                self.shift = shift\n",
    "            self.name = rev_convert_dict[self.n]\n",
    "            \n",
    "        self.repr_str = f\"Note: {self.name}\"\n",
    "        self.spectrum = [self.n+k for k in [12*(i-3) for i in range(7)]]\n",
    "            \n",
    "    def __repr__(self):\n",
    "        return self.repr_str \n",
    "    \n",
    "    def __str__(self):\n",
    "        return self.repr_str \n",
    "    \n",
    "    def __sub__(self,other_note):\n",
    "        \"\"\"\n",
    "        measure the distance of two notes. Important right?\n",
    "        \n",
    "        other_note is always the chord notes (or extensions); self note is the root.\n",
    "        \"\"\"\n",
    "        \n",
    "        return (other_note.n%12-self.n)%12\n",
    "    \n",
    "    def __members(self):\n",
    "        return (self.name)\n",
    "    \n",
    "    def __eq__(self, other):\n",
    "        if type(other) is type(self):\n",
    "            return self.__members() == other.__members()\n",
    "        else:\n",
    "            return False\n",
    "\n",
    "    def __hash__(self):\n",
    "        return hash(self.__members())\n"
   ]
  },
  {
   "cell_type": "code",
   "execution_count": 4,
   "metadata": {},
   "outputs": [
    {
     "name": "stdout",
     "output_type": "stream",
     "text": [
      "60 Note: B 10\n"
     ]
    }
   ],
   "source": [
    "print(Note(\"C\").n, Note(n=71),Note(\"D\")-Note(\"C\"))"
   ]
  },
  {
   "cell_type": "code",
   "execution_count": 107,
   "metadata": {},
   "outputs": [],
   "source": [
    "class Chord:\n",
    "    \"\"\"\n",
    "    two ways to think about a chord.\n",
    "    \n",
    "    1. a chord is given by quality. thus in terms of modes, it's the 1st degree of the mode that corresponds to that quality\n",
    "    2. a chord is a functional chord, given a mode.\n",
    "    \n",
    "    extensions: list of extensions: ['9','#11']\n",
    "    \"\"\"\n",
    "    \n",
    "    QUALITY_MOD_D = dict(zip(['Maj7','m7','7','m7b5'],['Ionian','Dorian','Mixolydian','Locrian']))\n",
    "    \n",
    "    MODE_LIST = ['Ionian','Dorian','Phrygian','Lydian','Mixolydian','Aeolian','Locrian']\n",
    "    MODE_SEC = range(7)\n",
    "\n",
    "    MOD_DEGREE_D = dict(zip(MODE_LIST,MODE_SEC))\n",
    "    DEGREE_MOD_D = dict(zip(MODE_SEC,MODE_LIST))\n",
    "\n",
    "    DIATONIC_CHORD = ['Maj7','m7','m7','Maj7','7','m7','m7b5']\n",
    "\n",
    "    CIRCLE_OF_FIFTH = [2,2,1,2,2,2,1]\n",
    "\n",
    "    QUALITY_MODE_LIST = ['Ionian','Dorian','Mixolydian','Locrian']\n",
    "    QM_DISTANCE = [frozenset([4,7,11]),frozenset([3,7,10]),frozenset([4,7,10]),frozenset([3,6,10])]\n",
    "    \n",
    "    \n",
    "    ROMAN_N_DICT = dict(zip(range(1,8),[\"I\",\"II\",\"III\",\"IV\",\"V\",\"VI\",\"VII\"]))\n",
    "    \n",
    "    def __init__(self,root, quality = None, key_root = None, key_mode = None, mode_degree = None, extensions = None):\n",
    "        \n",
    "        self.root = root\n",
    "        self.quality = quality\n",
    "        self.key_mode = key_mode\n",
    "        self.mode_degree = mode_degree\n",
    "        self.extensions = extensions\n",
    "        self.roman = None\n",
    "\n",
    "        self.mode = None\n",
    "        \n",
    "        if self.quality in self.QUALITY_MOD_D.keys():\n",
    "            self.mode = self.QUALITY_MOD_D[self.quality]\n",
    "        \n",
    "        if key_mode is not None:\n",
    "            self.roman = self.ROMAN_N_DICT[mode_degree]\n",
    "            \n",
    "        if self.key_mode:  \n",
    "            self.repr_str = f\"{self.root}{self.quality} - ({self.roman}{self.quality})\"\n",
    "        else:\n",
    "            self.repr_str = f\"{self.root}{self.quality}\"\n",
    "            \n",
    "\n",
    "    @classmethod\n",
    "    def from_quality(cls,root, quality,extensions=None):\n",
    "        \n",
    "        return cls(root, quality, extensions)\n",
    "        \n",
    "    @classmethod\n",
    "    def from_function(cls, key_root, key_mode, mode_degree, extensions=None):\n",
    "        ## get quality\n",
    "        shift_n = cls.MOD_DEGREE_D[key_mode]+(mode_degree-1)\n",
    "        tmp_diatonic_chord = deque(cls.DIATONIC_CHORD) \n",
    "        tmp_diatonic_chord.rotate(-1*shift_n)\n",
    "\n",
    "        tmp_quality = tmp_diatonic_chord[0]\n",
    "\n",
    "        ##. figure out the root \n",
    "        tmp_mode_sec = cls.MOD_DEGREE_D[key_mode]\n",
    "        mode_distance_deque = deque(cls.CIRCLE_OF_FIFTH)\n",
    "        mode_distance_deque.rotate(-1*(tmp_mode_sec))\n",
    "\n",
    "        distance_list = [0]+list(mode_distance_deque)\n",
    "        realized_distance = sum(distance_list[:mode_degree])\n",
    "        key_note_n = Note(key_root).n+realized_distance\n",
    "\n",
    "        root = Note(n = key_note_n).name\n",
    "        return cls(root, tmp_quality, extensions,key_mode, mode_degree,extensions)\n",
    "        \n",
    "            \n",
    "    def __repr__(self):\n",
    "        if self.extensions:\n",
    "            return self.repr_str +' ext: ['+'-'.join([str(i) for i in self.extensions])+\"]\"\n",
    "        else:\n",
    "            return self.repr_str  \n",
    "    \n",
    "    def __str__(self):\n",
    "        if self.extensions:\n",
    "            return self.repr_str +' ext: ['+'-'.join([str(i) for i in self.extensions])+\"]\"\n",
    "        else:\n",
    "            return self.repr_str \n",
    "        \n",
    "    def get_notes(self):\n",
    "        \"\"\"\n",
    "        return a list of notes that can be played over this chord.\n",
    "        \"\"\"\n",
    "        if self.mode_degree is None:\n",
    "            # if a chord doesn't have functionality, then solo over the scales that fit that quality.\n",
    "            raise NotImplementedError\n",
    "            \n",
    "        else:\n",
    "            # first get scales based on quality, then look at base mode. return the overlaping notes.\n",
    "            tmp_rotate = self.MOD_DEGREE_D[self.QUALITY_MOD_D[self.quality]]\n",
    "            mode_distance_deque = deque(self.CIRCLE_OF_FIFTH)\n",
    "            mode_distance_deque.rotate(-1*(tmp_rotate))\n",
    "\n",
    "            distance_list = [0]+list(mode_distance_deque)\n",
    "            distance_list = np.cumsum(distance_list)\n",
    "\n",
    "            num_root = Note(k.root).n\n",
    "            n_root = Note(n = num_root)\n",
    "            n_3rd = Note(n = num_root+distance_list[2])\n",
    "            n_5th = Note(n = num_root+distance_list[4])\n",
    "            n_7th = Note(n = num_root+distance_list[6])\n",
    "            n_9th = Note(n = num_root+distance_list[1])\n",
    "            notes_dict = {\"n_root\":n_root,\"n_3rd\":n_3rd,\"n_5th\":n_5th,\"n_7th\":n_7th,\"n_9th\":n_9th}\n",
    "            return notes_dict\n",
    "\n",
    "    \n",
    "    "
   ]
  },
  {
   "cell_type": "code",
   "execution_count": 108,
   "metadata": {},
   "outputs": [
    {
     "data": {
      "text/plain": [
       "(FMaj7, 'F', 'Maj7', None, None)"
      ]
     },
     "execution_count": 108,
     "metadata": {},
     "output_type": "execute_result"
    }
   ],
   "source": [
    "k = Chord.from_quality('F','Maj7')\n",
    "k,k.root,k.quality, k.key_mode,k.roman"
   ]
  },
  {
   "cell_type": "code",
   "execution_count": 109,
   "metadata": {},
   "outputs": [
    {
     "data": {
      "text/plain": [
       "(Am7 - (Im7), 'A', 'm7', 'Aeolian', 'I')"
      ]
     },
     "execution_count": 109,
     "metadata": {},
     "output_type": "execute_result"
    }
   ],
   "source": [
    "k = Chord.from_function(key_root = 'A',key_mode = 'Aeolian',mode_degree = 1)\n",
    "k,k.root,k.quality, k.key_mode,k.roman"
   ]
  },
  {
   "cell_type": "code",
   "execution_count": 110,
   "metadata": {},
   "outputs": [
    {
     "data": {
      "text/plain": [
       "{'n_root': Note: A,\n",
       " 'n_3rd': Note: C,\n",
       " 'n_5th': Note: E,\n",
       " 'n_7th': Note: G,\n",
       " 'n_9th': Note: B}"
      ]
     },
     "execution_count": 110,
     "metadata": {},
     "output_type": "execute_result"
    }
   ],
   "source": [
    "k.get_notes()"
   ]
  },
  {
   "cell_type": "code",
   "execution_count": 111,
   "metadata": {},
   "outputs": [],
   "source": [
    "input_df = pd.DataFrame({\"bar\":[1,2,3,4],\"key\":['C']*4,\"mode\":['Ionian']*4,\"degree\":[2,5,1,1],\"bar_time\":[1]*4,'extensions':[None,[13],None,None]})"
   ]
  },
  {
   "cell_type": "code",
   "execution_count": 112,
   "metadata": {},
   "outputs": [],
   "source": [
    "class Song:\n",
    "    def __init__(self):\n",
    "        self.input_df = None\n",
    "        self.output_df = None\n",
    "        \n",
    "    def analyze(self,input_df):\n",
    "        self.input_df = input_df.copy()        \n",
    "        input_df['chord'] = input_df.apply(lambda x: (Chord.from_function(key_root = x.key, key_mode = x['mode'], mode_degree = x.degree,extensions = x.extensions)), axis = 1)\n",
    "        self.output_df = input_df.copy()\n",
    "    "
   ]
  },
  {
   "cell_type": "code",
   "execution_count": 113,
   "metadata": {},
   "outputs": [],
   "source": [
    "my_song = Song()\n",
    "\n"
   ]
  },
  {
   "cell_type": "code",
   "execution_count": 114,
   "metadata": {},
   "outputs": [],
   "source": [
    "my_song.analyze(input_df)\n",
    "\n",
    "output_df = my_song.output_df"
   ]
  },
  {
   "cell_type": "code",
   "execution_count": 115,
   "metadata": {},
   "outputs": [
    {
     "data": {
      "text/html": [
       "<div>\n",
       "<style scoped>\n",
       "    .dataframe tbody tr th:only-of-type {\n",
       "        vertical-align: middle;\n",
       "    }\n",
       "\n",
       "    .dataframe tbody tr th {\n",
       "        vertical-align: top;\n",
       "    }\n",
       "\n",
       "    .dataframe thead th {\n",
       "        text-align: right;\n",
       "    }\n",
       "</style>\n",
       "<table border=\"1\" class=\"dataframe\">\n",
       "  <thead>\n",
       "    <tr style=\"text-align: right;\">\n",
       "      <th></th>\n",
       "      <th>bar</th>\n",
       "      <th>key</th>\n",
       "      <th>mode</th>\n",
       "      <th>degree</th>\n",
       "      <th>bar_time</th>\n",
       "      <th>extensions</th>\n",
       "      <th>chord</th>\n",
       "    </tr>\n",
       "  </thead>\n",
       "  <tbody>\n",
       "    <tr>\n",
       "      <th>0</th>\n",
       "      <td>1</td>\n",
       "      <td>C</td>\n",
       "      <td>Ionian</td>\n",
       "      <td>2</td>\n",
       "      <td>1</td>\n",
       "      <td>None</td>\n",
       "      <td>Dm7 - (IIm7)</td>\n",
       "    </tr>\n",
       "    <tr>\n",
       "      <th>1</th>\n",
       "      <td>2</td>\n",
       "      <td>C</td>\n",
       "      <td>Ionian</td>\n",
       "      <td>5</td>\n",
       "      <td>1</td>\n",
       "      <td>[13]</td>\n",
       "      <td>G7 - (V7) ext: [13]</td>\n",
       "    </tr>\n",
       "    <tr>\n",
       "      <th>2</th>\n",
       "      <td>3</td>\n",
       "      <td>C</td>\n",
       "      <td>Ionian</td>\n",
       "      <td>1</td>\n",
       "      <td>1</td>\n",
       "      <td>None</td>\n",
       "      <td>CMaj7 - (IMaj7)</td>\n",
       "    </tr>\n",
       "    <tr>\n",
       "      <th>3</th>\n",
       "      <td>4</td>\n",
       "      <td>C</td>\n",
       "      <td>Ionian</td>\n",
       "      <td>1</td>\n",
       "      <td>1</td>\n",
       "      <td>None</td>\n",
       "      <td>CMaj7 - (IMaj7)</td>\n",
       "    </tr>\n",
       "  </tbody>\n",
       "</table>\n",
       "</div>"
      ],
      "text/plain": [
       "   bar key    mode  degree  bar_time extensions                chord\n",
       "0    1   C  Ionian       2         1       None         Dm7 - (IIm7)\n",
       "1    2   C  Ionian       5         1       [13]  G7 - (V7) ext: [13]\n",
       "2    3   C  Ionian       1         1       None      CMaj7 - (IMaj7)\n",
       "3    4   C  Ionian       1         1       None      CMaj7 - (IMaj7)"
      ]
     },
     "execution_count": 115,
     "metadata": {},
     "output_type": "execute_result"
    }
   ],
   "source": [
    "output_df "
   ]
  },
  {
   "cell_type": "code",
   "execution_count": null,
   "metadata": {},
   "outputs": [],
   "source": [
    "my_song.improvise()\n",
    "# step 1: from note names to numeric characteristic notes\n",
    "# step 2: use characteristic notes to line up a melody structure. \n",
    "# step 3: look at key mode, add additional notes that target those structure notes\n",
    "\n",
    "# what about rhythm????"
   ]
  },
  {
   "cell_type": "code",
   "execution_count": null,
   "metadata": {},
   "outputs": [],
   "source": []
  }
 ],
 "metadata": {
  "kernelspec": {
   "display_name": "Python 3",
   "language": "python",
   "name": "python3"
  },
  "language_info": {
   "codemirror_mode": {
    "name": "ipython",
    "version": 3
   },
   "file_extension": ".py",
   "mimetype": "text/x-python",
   "name": "python",
   "nbconvert_exporter": "python",
   "pygments_lexer": "ipython3",
   "version": "3.8.5"
  }
 },
 "nbformat": 4,
 "nbformat_minor": 4
}
