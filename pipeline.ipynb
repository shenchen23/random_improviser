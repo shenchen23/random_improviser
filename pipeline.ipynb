{
 "cells": [
  {
   "cell_type": "markdown",
   "metadata": {},
   "source": [
    "## functionalities\n",
    "\n",
    "1. build a backing track, specify functional harmony, then generate improvisation.\n",
    "* notes\n",
    "* rhythm\n",
    "\n",
    "2. given a backing track defined, do reharmonization.\n"
   ]
  },
  {
   "cell_type": "code",
   "execution_count": 142,
   "metadata": {},
   "outputs": [],
   "source": [
    "from midiutil import MIDIFile\n",
    "import numpy as np\n",
    "import pygame\n",
    "import pandas as pd\n",
    "from collections import deque \n",
    "from functools import reduce\n"
   ]
  },
  {
   "cell_type": "code",
   "execution_count": null,
   "metadata": {},
   "outputs": [],
   "source": []
  },
  {
   "cell_type": "code",
   "execution_count": 175,
   "metadata": {},
   "outputs": [],
   "source": [
    "class note:\n",
    "\n",
    "    def __init__(self,name=None,n=None,shift=0):\n",
    "        \"\"\"\n",
    "        name is the note of a chord.\n",
    "        n represent relative location in the twelve equal temperament\n",
    "        shift = 0 means 4th octave.\n",
    "        \"\"\"\n",
    "        note_name_l = ['C','C#','Db','D','D#',\\\n",
    "                              'Eb','E','F','F#','Gb','G','G#','Ab','A','A#','Bb','B']\n",
    "        note_loc_l = [0, 1, 1, 2, 3, 3, 4, 5, 6, 6, 7, 8, 8, 9, 10, 10, 11]\n",
    "        convert_dict = dict(zip(note_name_l,note_loc_l))\n",
    "        rev_convert_dict = dict(zip(note_loc_l,note_name_l))\n",
    "        if name and (n is None):\n",
    "            self.name = name\n",
    "            self.shift = shift\n",
    "            self.n = convert_dict[self.name]+(self.shift+5)*12\n",
    "        elif n and (name is None):\n",
    "            self.n = n%12\n",
    "            self.shift = n//12-5\n",
    "            self.name = rev_convert_dict[self.n]\n",
    "            \n",
    "        self.repr_str = f\"Note: {self.name} - Octave: {self.shift+4}\"\n",
    "            \n",
    "    def __repr__(self):\n",
    "        return self.repr_str \n",
    "    \n",
    "    def __str__(self):\n",
    "        return self.repr_str \n",
    "    \n",
    "    def __sub__(self,other_note):\n",
    "        \"\"\"\n",
    "        measure the distance of two notes. Important right?\n",
    "        \n",
    "        other_note is always the chord notes. while self note is the root.\n",
    "        \"\"\"\n",
    "        \n",
    "        return (other_note.n%12-self.n%12 )%12\n",
    "        \n",
    "\n"
   ]
  },
  {
   "cell_type": "code",
   "execution_count": 176,
   "metadata": {},
   "outputs": [],
   "source": [
    "class mode:\n",
    "    def __init__(self,key,mode_name=None):\n",
    "        self.key = key\n",
    "        self.mode_name = mode_name\n",
    "\n",
    "        \n",
    "        mode_name_l = ['Ionian','Dorian','Phrygian','Lydian','Mixolydian','Aeolian','Locrian']\n",
    "        sequence_l = [0,1,2,3,4,5,6]\n",
    "        name_dict = dict(zip(mode_name_l,sequence_l))\n",
    "        \n",
    "        self.sequence = name_dict[self.mode_name]\n",
    "        \n",
    "        self.key_note = note(self.key).n\n",
    "        \n",
    "        circle_of_fifth_distance = [2,2,1,2,2,2,1]\n",
    "        \n",
    "        mode_distance = deque(circle_of_fifth_distance)\n",
    "        mode_distance.rotate(-1*self.sequence)\n",
    "        \n",
    "        self.current_spin = mode_distance\n",
    "        mode_distance = [0]+list(self.current_spin)[:-1]\n",
    "\n",
    "        self.note_n_l = np.cumsum(mode_distance)+self.key_note\n",
    "        self.note_l = [note(n=i) for i in self.note_n_l]\n",
    "        self.repr_str = f\"Key: {self.key} - {self.mode_name}\\nNotes: {','.join([i.name for i in self.note_l])}\"\n",
    "        \n",
    "        self.scale = dict(zip(range(1,8),self.note_l))\n",
    "            \n",
    "    def __repr__(self):\n",
    "        return self.repr_str\n",
    "    \n",
    "    def __str__(self):\n",
    "        return self.repr_str"
   ]
  },
  {
   "cell_type": "code",
   "execution_count": 177,
   "metadata": {},
   "outputs": [
    {
     "data": {
      "text/plain": [
       "Key: C - Phrygian\n",
       "Notes: C,Db,Eb,F,G,Ab,Bb"
      ]
     },
     "execution_count": 177,
     "metadata": {},
     "output_type": "execute_result"
    }
   ],
   "source": [
    "mode(\"C\",\"Phrygian\")"
   ]
  },
  {
   "cell_type": "code",
   "execution_count": 227,
   "metadata": {},
   "outputs": [],
   "source": [
    "class chord:\n",
    "    \"\"\"\n",
    "    \n",
    "    \"\"\"\n",
    "    def __init__(self,root=None,quality=None,mode_name=None, other_notes = None):\n",
    "        \"\"\"\n",
    "        degree: 1,2,3,4,5,6,7\n",
    "        1. specify root\n",
    "        2. specify one of: quality, mode_name, other_notes\n",
    "        or mode_name and degree (of the bar)\n",
    "        \"\"\"\n",
    "        self.root = root\n",
    "        self.root_note = note(self.root)\n",
    "        \n",
    "        quality2mode_d = dict(zip(['Maj7','m7','dominant7','m7b5','dim'],['Ionian','Dorian','Mixolydian','Locrian','others']))\n",
    "        \n",
    "        mode2quality_d = dict(zip(['Ionian','Dorian','Phrygian','Lydian','Mixolydian','Aeolian','Locrian']\\\n",
    "                                  ,['Maj7','m7','m7','Maj7','dominant7','m7','m7b5']))\n",
    "        \n",
    "        distance2quality_d = dict(zip([frozenset([4,7,11]),frozenset([3,7,10]),frozenset([4,7,10]),frozenset([3,6,10]),frozenset([3,6,9])]\\\n",
    "                                      ,['Maj7','m7','dominant7','m7b5','dim']))\n",
    "        rev_dict = ['']\n",
    "        if quality is None and mode_name is not None:\n",
    "            self.mode_name = mode_name\n",
    "            self.quality = mode2quality_d[self.mode_name]\n",
    "            self.mode = mode(key=self.root, mode_name= self.mode_name)\n",
    "            \n",
    "        elif mode_name is None and quality is not None:\n",
    "            self.quality = quality\n",
    "            self.mode_name = quality2mode_d[self.quality]\n",
    "            self.mode = mode(key=self.root,mode_name=self.mode_name)\n",
    "        elif other_notes:\n",
    "            distance_set = frozenset([self.root_note - other_note for other_note in other_notes])\n",
    "            self.quality = distance2quality_d[distance_set]\n",
    "            self.mode_name = quality2mode_d[self.quality]\n",
    "            self.mode = mode(key=self.root,mode_name=self.mode_name)\n",
    "            \n",
    "        self.scale = self.mode.scale\n",
    "        \n",
    "        self.chord7 = [self.scale[i] for i in [1,3,5,7]]\n",
    "        \n",
    "        self.name = f'Chord: {self.root}{self.quality}'\n",
    "        \n",
    "    def __repr__(self):\n",
    "        return self.name\n",
    "\n",
    "    def __str__(self):\n",
    "        return self.name"
   ]
  },
  {
   "cell_type": "code",
   "execution_count": 228,
   "metadata": {},
   "outputs": [
    {
     "data": {
      "text/plain": [
       "Chord: CMaj7"
      ]
     },
     "execution_count": 228,
     "metadata": {},
     "output_type": "execute_result"
    }
   ],
   "source": [
    "chord(root='C',other_notes=[note(\"E\"),note(\"G\"),note(\"B\")])"
   ]
  },
  {
   "cell_type": "code",
   "execution_count": 229,
   "metadata": {},
   "outputs": [
    {
     "data": {
      "text/plain": [
       "[Note: C - Octave: 4,\n",
       " Note: E - Octave: 4,\n",
       " Note: G - Octave: 4,\n",
       " Note: B - Octave: 4]"
      ]
     },
     "execution_count": 229,
     "metadata": {},
     "output_type": "execute_result"
    }
   ],
   "source": [
    "chord(root='C',mode_name='Ionian').chord7"
   ]
  },
  {
   "cell_type": "code",
   "execution_count": 230,
   "metadata": {},
   "outputs": [],
   "source": [
    "class functional_chord:\n",
    "    \"\"\"\n",
    "    given a mode and its degree, get the right chord\n",
    "    \n",
    "    Later could add some passing chords..\n",
    "    \"\"\"\n",
    "    def __init__(self,root=None,mode_name=None,degree=1):\n",
    "        \"\"\"\n",
    "      \n",
    "        \"\"\"\n",
    "        self.root = root\n",
    "        self.mode_name = mode_name\n",
    "        self.degree= degree\n",
    "        \n",
    "        self.mode = mode(key=self.root, mode_name = self.mode_name)\n",
    "    \n",
    "        \n",
    "        note_deque = deque(self.mode.note_l)\n",
    "        note_deque.rotate(-1*(self.degree-1))\n",
    "        \n",
    "        note_l = list(note_deque)\n",
    "        self.note_l = [note_l[i-1] for i in [1,3,5,7]]\n",
    "        \n",
    "        self.chord = chord(root=self.note_l[0].name,other_notes=self.note_l[1:])\n",
    "        \n",
    "                "
   ]
  },
  {
   "cell_type": "code",
   "execution_count": 231,
   "metadata": {},
   "outputs": [
    {
     "data": {
      "text/plain": [
       "'Chord: FMaj7'"
      ]
     },
     "execution_count": 231,
     "metadata": {},
     "output_type": "execute_result"
    }
   ],
   "source": [
    "functional_chord(\"C\",\"Ionian\",degree = 4).chord.name"
   ]
  },
  {
   "cell_type": "code",
   "execution_count": 232,
   "metadata": {},
   "outputs": [],
   "source": [
    "test_df = pd.DataFrame({\"bar\":[1]*4,\"key\":['C']*4,\"mode\":['Ionian']*4,\"degree\":[4,3,2,1]})"
   ]
  },
  {
   "cell_type": "code",
   "execution_count": 233,
   "metadata": {},
   "outputs": [
    {
     "data": {
      "text/html": [
       "<div>\n",
       "<style scoped>\n",
       "    .dataframe tbody tr th:only-of-type {\n",
       "        vertical-align: middle;\n",
       "    }\n",
       "\n",
       "    .dataframe tbody tr th {\n",
       "        vertical-align: top;\n",
       "    }\n",
       "\n",
       "    .dataframe thead th {\n",
       "        text-align: right;\n",
       "    }\n",
       "</style>\n",
       "<table border=\"1\" class=\"dataframe\">\n",
       "  <thead>\n",
       "    <tr style=\"text-align: right;\">\n",
       "      <th></th>\n",
       "      <th>bar</th>\n",
       "      <th>key</th>\n",
       "      <th>mode</th>\n",
       "      <th>degree</th>\n",
       "    </tr>\n",
       "  </thead>\n",
       "  <tbody>\n",
       "    <tr>\n",
       "      <th>0</th>\n",
       "      <td>1</td>\n",
       "      <td>C</td>\n",
       "      <td>Ionian</td>\n",
       "      <td>4</td>\n",
       "    </tr>\n",
       "    <tr>\n",
       "      <th>1</th>\n",
       "      <td>1</td>\n",
       "      <td>C</td>\n",
       "      <td>Ionian</td>\n",
       "      <td>3</td>\n",
       "    </tr>\n",
       "    <tr>\n",
       "      <th>2</th>\n",
       "      <td>1</td>\n",
       "      <td>C</td>\n",
       "      <td>Ionian</td>\n",
       "      <td>2</td>\n",
       "    </tr>\n",
       "    <tr>\n",
       "      <th>3</th>\n",
       "      <td>1</td>\n",
       "      <td>C</td>\n",
       "      <td>Ionian</td>\n",
       "      <td>1</td>\n",
       "    </tr>\n",
       "  </tbody>\n",
       "</table>\n",
       "</div>"
      ],
      "text/plain": [
       "   bar key    mode  degree\n",
       "0    1   C  Ionian       4\n",
       "1    1   C  Ionian       3\n",
       "2    1   C  Ionian       2\n",
       "3    1   C  Ionian       1"
      ]
     },
     "execution_count": 233,
     "metadata": {},
     "output_type": "execute_result"
    }
   ],
   "source": [
    "test_df"
   ]
  },
  {
   "cell_type": "code",
   "execution_count": 234,
   "metadata": {},
   "outputs": [],
   "source": [
    "test_df['chord_name'] = test_df.apply(lambda x: (functional_chord(root = x.key,mode_name = x['mode'],degree = x.degree).chord.name), axis = 1)"
   ]
  },
  {
   "cell_type": "code",
   "execution_count": 235,
   "metadata": {},
   "outputs": [
    {
     "data": {
      "text/html": [
       "<div>\n",
       "<style scoped>\n",
       "    .dataframe tbody tr th:only-of-type {\n",
       "        vertical-align: middle;\n",
       "    }\n",
       "\n",
       "    .dataframe tbody tr th {\n",
       "        vertical-align: top;\n",
       "    }\n",
       "\n",
       "    .dataframe thead th {\n",
       "        text-align: right;\n",
       "    }\n",
       "</style>\n",
       "<table border=\"1\" class=\"dataframe\">\n",
       "  <thead>\n",
       "    <tr style=\"text-align: right;\">\n",
       "      <th></th>\n",
       "      <th>bar</th>\n",
       "      <th>key</th>\n",
       "      <th>mode</th>\n",
       "      <th>degree</th>\n",
       "      <th>chord_name</th>\n",
       "    </tr>\n",
       "  </thead>\n",
       "  <tbody>\n",
       "    <tr>\n",
       "      <th>0</th>\n",
       "      <td>1</td>\n",
       "      <td>C</td>\n",
       "      <td>Ionian</td>\n",
       "      <td>4</td>\n",
       "      <td>Chord: FMaj7</td>\n",
       "    </tr>\n",
       "    <tr>\n",
       "      <th>1</th>\n",
       "      <td>1</td>\n",
       "      <td>C</td>\n",
       "      <td>Ionian</td>\n",
       "      <td>3</td>\n",
       "      <td>Chord: Em7</td>\n",
       "    </tr>\n",
       "    <tr>\n",
       "      <th>2</th>\n",
       "      <td>1</td>\n",
       "      <td>C</td>\n",
       "      <td>Ionian</td>\n",
       "      <td>2</td>\n",
       "      <td>Chord: Dm7</td>\n",
       "    </tr>\n",
       "    <tr>\n",
       "      <th>3</th>\n",
       "      <td>1</td>\n",
       "      <td>C</td>\n",
       "      <td>Ionian</td>\n",
       "      <td>1</td>\n",
       "      <td>Chord: CMaj7</td>\n",
       "    </tr>\n",
       "  </tbody>\n",
       "</table>\n",
       "</div>"
      ],
      "text/plain": [
       "   bar key    mode  degree    chord_name\n",
       "0    1   C  Ionian       4  Chord: FMaj7\n",
       "1    1   C  Ionian       3    Chord: Em7\n",
       "2    1   C  Ionian       2    Chord: Dm7\n",
       "3    1   C  Ionian       1  Chord: CMaj7"
      ]
     },
     "execution_count": 235,
     "metadata": {},
     "output_type": "execute_result"
    }
   ],
   "source": [
    "test_df"
   ]
  },
  {
   "cell_type": "code",
   "execution_count": null,
   "metadata": {},
   "outputs": [],
   "source": []
  }
 ],
 "metadata": {
  "kernelspec": {
   "display_name": "Python 3",
   "language": "python",
   "name": "python3"
  },
  "language_info": {
   "codemirror_mode": {
    "name": "ipython",
    "version": 3
   },
   "file_extension": ".py",
   "mimetype": "text/x-python",
   "name": "python",
   "nbconvert_exporter": "python",
   "pygments_lexer": "ipython3",
   "version": "3.8.5"
  }
 },
 "nbformat": 4,
 "nbformat_minor": 4
}
