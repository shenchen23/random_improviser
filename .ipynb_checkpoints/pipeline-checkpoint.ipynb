{
 "cells": [
  {
   "cell_type": "markdown",
   "metadata": {},
   "source": [
    "## functionalities\n",
    "\n",
    "1. build a backing track, specify functional harmony, then generate improvisation.\n",
    "* notes\n",
    "* rhythm\n",
    "\n",
    "2. given a backing track defined, do reharmonization.\n",
    "\n",
    "3. given a chord and a corresponding chord name, figure out the closest chord in terms of voicing."
   ]
  },
  {
   "cell_type": "code",
   "execution_count": 1,
   "metadata": {},
   "outputs": [
    {
     "name": "stdout",
     "output_type": "stream",
     "text": [
      "pygame 2.0.1 (SDL 2.0.14, Python 3.8.5)\n",
      "Hello from the pygame community. https://www.pygame.org/contribute.html\n"
     ]
    }
   ],
   "source": [
    "from midiutil import MIDIFile\n",
    "import numpy as np\n",
    "import pygame\n",
    "import pandas as pd\n",
    "from collections import deque \n",
    "from functools import reduce\n"
   ]
  },
  {
   "cell_type": "markdown",
   "metadata": {},
   "source": [
    "## what is a note:\n",
    "\n",
    "note has properties of:\n",
    "* name: A B C D \n",
    "* shift and n: actual numbers\n",
    "* spectrum\n",
    "\n"
   ]
  },
  {
   "cell_type": "markdown",
   "metadata": {},
   "source": [
    "## what is a chord/mode\n",
    "\n",
    "it's a lot more complicated. Let's start with use cases.\n",
    "\n",
    "When formulating a song, the input would always be using modes first. i.e.:\n",
    "\n",
    "* We're in C Ionian key, the chord progression is IV, III, II, I.\n",
    "* Sometimes we can add secondary dominance. F Ionian(II V)C Ionian(IV III II I).\n",
    "* Sometimes we can even add more passing chords that points to no modes. It's just a brush of color.\n",
    "* Even when the chords are in the mode, we can do alternation. For example V alt dominant chord.\n",
    "\n",
    "So there are two ways to set up chord progressions:\n",
    "\n",
    "1. functional harmony framework, with the freedom of altered notes\n",
    "2. non-functional chords\n",
    "\n"
   ]
  },
  {
   "cell_type": "markdown",
   "metadata": {},
   "source": [
    "1. modeling basic music components.\n",
    "2. design input and output and add-ins. \n",
    "3. Variations, pattern recognition\n",
    "\n",
    "* Input would be formulating a song. \n",
    "* Output would be midi files as well as a dataframe to represent the song and solos.\n",
    "* add-ins: customized patterns for backing tracks.\n",
    "* Pattern\n",
    "\n",
    "voicing module is for customized chord voicings and\n",
    "\n",
    "\n",
    "A solo module."
   ]
  },
  {
   "cell_type": "code",
   "execution_count": 2,
   "metadata": {},
   "outputs": [],
   "source": [
    "class Note:\n",
    "    \"\"\"\n",
    "    name is the note of a chord.\n",
    "    n represent relative location in the twelve equal temperament\n",
    "    shift = 0 means 4th octave.\n",
    "    \"\"\"\n",
    "    def __init__(self,name=None,n=None,shift=0,*args, **kwargs):\n",
    "        note_name_l = ['C','C#','Db','D','D#',\\\n",
    "                              'Eb','E','F','F#','Gb','G','G#','Ab','A','A#','Bb','B']\n",
    "        note_loc_l = [0, 1, 1, 2, 3, 3, 4, 5, 6, 6, 7, 8, 8, 9, 10, 10, 11]\n",
    "        convert_dict = dict(zip(note_name_l,note_loc_l))\n",
    "        rev_convert_dict = dict(zip(note_loc_l,note_name_l))\n",
    "        if name and (n is None):\n",
    "            self.name = name\n",
    "            self.shift = shift\n",
    "            self.n = convert_dict[self.name]+(self.shift+5)*12\n",
    "        elif (n is not None) and (name is None):\n",
    "            self.n = n%12\n",
    "            if shift is None:\n",
    "                self.shift = n//12-5\n",
    "            else:\n",
    "                self.shift = shift\n",
    "            self.name = rev_convert_dict[self.n]\n",
    "            \n",
    "        self.repr_str = f\"Note: {self.name}\"\n",
    "        self.spectrum = [self.n+k for k in [12*(i-3) for i in range(7)]]\n",
    "            \n",
    "    def __repr__(self):\n",
    "        return self.repr_str \n",
    "    \n",
    "    def __str__(self):\n",
    "        return self.repr_str \n",
    "    \n",
    "    def __sub__(self,other_note):\n",
    "        \"\"\"\n",
    "        measure the distance of two notes. Important right?\n",
    "        \n",
    "        other_note is always the chord notes (or extensions); self note is the root.\n",
    "        \"\"\"\n",
    "        \n",
    "        return (other_note.n%12-self.n)%12\n",
    "    \n",
    "    def __members(self):\n",
    "        return (self.name)\n",
    "    \n",
    "    def __eq__(self, other):\n",
    "        if type(other) is type(self):\n",
    "            return self.__members() == other.__members()\n",
    "        else:\n",
    "            return False\n",
    "\n",
    "    def __hash__(self):\n",
    "        return hash(self.__members())\n"
   ]
  },
  {
   "cell_type": "code",
   "execution_count": 8,
   "metadata": {},
   "outputs": [
    {
     "name": "stdout",
     "output_type": "stream",
     "text": [
      "60 Note: B 10\n"
     ]
    }
   ],
   "source": [
    "print(Note(\"C\").n, Note(n=71),Note(\"D\")-Note(\"C\"))"
   ]
  },
  {
   "cell_type": "code",
   "execution_count": 16,
   "metadata": {},
   "outputs": [],
   "source": [
    "class Mode:\n",
    "    def __init__(self,key,mode_name=None,*args, **kwargs):\n",
    "        self.key = key\n",
    "        self.mode_name = mode_name\n",
    "\n",
    "        \n",
    "        mode_name_l = ['Ionian','Dorian','Phrygian','Lydian','Mixolydian','Aeolian','Locrian']\n",
    "        sequence_l = [0,1,2,3,4,5,6]\n",
    "        name_dict = dict(zip(mode_name_l,sequence_l))\n",
    "        \n",
    "        self.sequence = name_dict[self.mode_name]\n",
    "        \n",
    "        self.key_note = Note(self.key).n\n",
    "        \n",
    "        circle_of_fifth_distance = [2,2,1,2,2,2,1]\n",
    "        \n",
    "        mode_distance = deque(circle_of_fifth_distance)\n",
    "        mode_distance.rotate(-1*self.sequence)\n",
    "        \n",
    "        self.current_spin = mode_distance\n",
    "        mode_distance = [0]+list(self.current_spin)[:-1]\n",
    "\n",
    "        self.note_n_l = np.cumsum(mode_distance)+self.key_note\n",
    "        self.note_l = [Note(n=i) for i in self.note_n_l]\n",
    "        self.repr_str = f\"Key: {self.key} - {self.mode_name}\\nNotes: {','.join([i.name for i in self.note_l])}\"\n",
    "        \n",
    "        self.scale = dict(zip(range(1,8),self.note_l))\n",
    "\n",
    "    def __repr__(self):\n",
    "        return self.repr_str\n",
    "    \n",
    "    def __str__(self):\n",
    "        return self.repr_str"
   ]
  },
  {
   "cell_type": "code",
   "execution_count": 35,
   "metadata": {},
   "outputs": [],
   "source": [
    "class Chord:\n",
    "    \"\"\"\n",
    "    degree: 1,2,3,4,5,6,7\n",
    "    1. specify root\n",
    "    2. specify one of: quality, mode_name, other_notes\n",
    "    or mode_name and degree (of the bar)\n",
    "    \"\"\"\n",
    "    def __init__(self,root=None,quality=None, other_notes = None,extensions = None, *args, **kwargs):\n",
    "\n",
    "        self.root = root\n",
    "        self.root_note = Note(self.root)\n",
    "        self.mode = None\n",
    "        self.extension_input = extensions\n",
    "        self.extension = None\n",
    "        \n",
    "        mode_quality_l= ['Maj7','m7','7','m7b5']\n",
    "        mode_list = ['Ionian','Dorian','Mixolydian','Locrian']\n",
    "        mode_distance_list = [frozenset([4,7,11]),frozenset([3,7,10]),frozenset([4,7,10]),frozenset([3,6,10])]\n",
    "        \n",
    "        quality_list = mode_quality_l+['dim']\n",
    "        distance_list = mode_distance_list+[frozenset([3,6,9])]\n",
    "        \n",
    "        quality2mode_d = dict(zip(mode_quality_l,mode_list))\n",
    "        \n",
    "        distance2quality_d = dict(zip(distance_list,quality_list))\n",
    "        quality2distance_d = dict(zip(quality_list,distance_list))\n",
    "\n",
    "        if quality is not None:\n",
    "            self.quality = quality\n",
    "            if quality in mode_quality_l:\n",
    "                self.mode_name = quality2mode_d[self.quality]\n",
    "                self.mode = Mode(key=self.root,mode_name=self.mode_name)\n",
    "            else:\n",
    "                self.mode_name = 'no_mode'\n",
    "\n",
    "                \n",
    "        elif other_notes:\n",
    "            distance_set = frozenset([self.root_note - other_note for other_note in other_notes])\n",
    "            if distance_set in distance_list:\n",
    "                self.quality = distance2quality_d[distance_set]\n",
    "                if distance_set in quality2mode_d.keys():\n",
    "                    self.mode_name = quality2mode_d[self.quality]\n",
    "                    self.mode = Mode(key=self.root,mode_name=self.mode_name)\n",
    "            else:\n",
    "                raise NotImplementedError\n",
    "        \n",
    "        if self.mode:\n",
    "            self.scale = self.mode.scale\n",
    "            self.chord7 = [self.scale[i] for i in [1,3,5,7]]\n",
    "        else:\n",
    "            self.chord7 = [Note(n = self.root_note.n+i) for i in [0]+list(quality2distance_d[self.quality]) ]\n",
    "        \n",
    "        if self.extension_input:\n",
    "            if max(self.extension_input)>=14:\n",
    "                raise ValueError\n",
    "            self.extension_input = [i-7 for i in self.extension_input]\n",
    "            self.extension = [self.scale[i] for i in self.extension_input]\n",
    "        \n",
    "        self.name = f'{self.root}{self.quality}'\n",
    "        \n",
    "        if self.extension is None:\n",
    "            self.notes = self.chord7\n",
    "        else:\n",
    "            self.notes = self.chord7+self.extension\n",
    "    def __repr__(self):\n",
    "        return self.name\n",
    "\n",
    "    def __str__(self):\n",
    "        return self.name"
   ]
  },
  {
   "cell_type": "code",
   "execution_count": 36,
   "metadata": {},
   "outputs": [
    {
     "name": "stdout",
     "output_type": "stream",
     "text": [
      "Key: C - Ionian\n",
      "Notes: C,D,E,F,G,A,B C None\n",
      "CMaj7 [Note: C, Note: E, Note: G, Note: B, Note: D]\n"
     ]
    }
   ],
   "source": [
    "print(Chord(\"C\",\"Maj7\"),Chord(\"C\",\"Maj7\",extensions = [9]).notes)"
   ]
  },
  {
   "cell_type": "code",
   "execution_count": 37,
   "metadata": {},
   "outputs": [],
   "source": [
    "class FunctionalChord(Mode):\n",
    "    \"\"\"\n",
    "    given a mode and its degree, get the right chord under the framework of functional harmony.\n",
    "    \"\"\"\n",
    "    def __init__(self,key=None,mode_name=None,degree=1,extensions = None,*args, **kwargs):\n",
    "        \n",
    "        super().__init__(key, mode_name)\n",
    "        self.degree = degree\n",
    "        \n",
    "        roman_n_dict = dict(zip(range(1,8),[\"I\",\"II\",\"III\",\"IV\",\"V\",\"VI\",\"VII\"]))\n",
    "        \n",
    "        self.roman_numeral = roman_n_dict[self.degree]\n",
    "        \n",
    "        note_deque = deque(self.note_l)\n",
    "        note_deque.rotate(-1*(self.degree-1))\n",
    "        \n",
    "        note_l = list(note_deque)\n",
    "        \n",
    "        self.note_l = [note_l[i-1] for i in [1,3,5,7]]\n",
    "        \n",
    "        self.chord = Chord(root=self.note_l[0].name,other_notes=self.note_l[1:],extensions = extensions)\n",
    "        self.repr_str = self.roman_numeral+self.chord.quality\n",
    "        \n",
    "    def __repr__(self):\n",
    "        return self.repr_str\n",
    "    \n",
    "    def __str__(self):\n",
    "        return self.repr_str  "
   ]
  },
  {
   "cell_type": "code",
   "execution_count": 38,
   "metadata": {},
   "outputs": [],
   "source": [
    "class Improvise:\n",
    "    def __init__(self,chord_progression,grid_unit=1/16):\n",
    "        self.cp_df = chord_progression\n",
    "        self.cp_df['length']\n",
    "        "
   ]
  },
  {
   "cell_type": "code",
   "execution_count": 39,
   "metadata": {},
   "outputs": [],
   "source": [
    "class Notes_Playable(Chord):\n",
    "    \"\"\"\n",
    "    given key,mode and the chord name, if it's \n",
    "    \"\"\"\n",
    "    def __init__(self,key,mode_name,chord_root,chord_quality,other_notes=None,*args, **kwargs):\n",
    "        super().__init__(root=chord_root,quality=chord_quality, other_notes = other_notes)\n",
    "\n",
    "\n",
    "        self.key_mode = Mode(key = key,mode_name = mode_name)\n",
    "        self.key_mode_tone = self.key_mode.note_l\n",
    "        \n",
    "        self.chord_tone = [Note(n = i.n,shift = 0) for i in self.chord7]\n",
    "        self.melody_spectrum = set(self.chord7).union(self.key_mode_tone)\n",
    "    \n",
    "    \n",
    "\n",
    "                "
   ]
  },
  {
   "cell_type": "code",
   "execution_count": 40,
   "metadata": {},
   "outputs": [
    {
     "data": {
      "text/plain": [
       "Gm7"
      ]
     },
     "execution_count": 40,
     "metadata": {},
     "output_type": "execute_result"
    }
   ],
   "source": [
    "m = FunctionalChord(key = \"F\", mode_name = 'Ionian',degree = 2)\n",
    "m.chord"
   ]
  },
  {
   "cell_type": "code",
   "execution_count": 32,
   "metadata": {},
   "outputs": [],
   "source": [
    "k = Notes_Playable(key = 'C',mode_name = 'Ionian',chord_root=m.chord.root,chord_quality = m.chord.quality)"
   ]
  },
  {
   "cell_type": "code",
   "execution_count": 33,
   "metadata": {},
   "outputs": [
    {
     "data": {
      "text/plain": [
       "([Note: G, Note: Bb, Note: D, Note: F],\n",
       " [Note: C, Note: D, Note: E, Note: F, Note: G, Note: A, Note: B])"
      ]
     },
     "execution_count": 33,
     "metadata": {},
     "output_type": "execute_result"
    }
   ],
   "source": [
    "k.chord_tone,k.key_mode_tone"
   ]
  },
  {
   "cell_type": "code",
   "execution_count": 41,
   "metadata": {},
   "outputs": [
    {
     "name": "stdout",
     "output_type": "stream",
     "text": [
      "None G None\n"
     ]
    },
    {
     "ename": "AttributeError",
     "evalue": "'Chord' object has no attribute 'scale'",
     "output_type": "error",
     "traceback": [
      "\u001b[0;31m---------------------------------------------------------------------------\u001b[0m",
      "\u001b[0;31mAttributeError\u001b[0m                            Traceback (most recent call last)",
      "\u001b[0;32m<ipython-input-41-b02c383d5457>\u001b[0m in \u001b[0;36m<module>\u001b[0;34m\u001b[0m\n\u001b[1;32m      2\u001b[0m \u001b[0;31m#chord_progression_df = pd.DataFrame({\"bar\":[1,2,3,4],\"key\":['C']*4,\"mode\":['Ionian',\"Aeolian\",\"Ionian\",\"Ionian\"],\"degree\":[4,4,3,6],\"bar_time\":[1]*4})\u001b[0m\u001b[0;34m\u001b[0m\u001b[0;34m\u001b[0m\u001b[0;34m\u001b[0m\u001b[0m\n\u001b[1;32m      3\u001b[0m \u001b[0;34m\u001b[0m\u001b[0m\n\u001b[0;32m----> 4\u001b[0;31m \u001b[0mchord_progression_df\u001b[0m\u001b[0;34m[\u001b[0m\u001b[0;34m'function_chord'\u001b[0m\u001b[0;34m]\u001b[0m \u001b[0;34m=\u001b[0m \u001b[0mchord_progression_df\u001b[0m\u001b[0;34m.\u001b[0m\u001b[0mapply\u001b[0m\u001b[0;34m(\u001b[0m\u001b[0;32mlambda\u001b[0m \u001b[0mx\u001b[0m\u001b[0;34m:\u001b[0m \u001b[0;34m(\u001b[0m\u001b[0mFunctionalChord\u001b[0m\u001b[0;34m(\u001b[0m\u001b[0mkey\u001b[0m \u001b[0;34m=\u001b[0m \u001b[0mx\u001b[0m\u001b[0;34m.\u001b[0m\u001b[0mkey\u001b[0m\u001b[0;34m,\u001b[0m\u001b[0mmode_name\u001b[0m \u001b[0;34m=\u001b[0m \u001b[0mx\u001b[0m\u001b[0;34m[\u001b[0m\u001b[0;34m'mode'\u001b[0m\u001b[0;34m]\u001b[0m\u001b[0;34m,\u001b[0m\u001b[0mdegree\u001b[0m \u001b[0;34m=\u001b[0m \u001b[0mx\u001b[0m\u001b[0;34m.\u001b[0m\u001b[0mdegree\u001b[0m\u001b[0;34m,\u001b[0m\u001b[0mextensions\u001b[0m \u001b[0;34m=\u001b[0m \u001b[0mx\u001b[0m\u001b[0;34m.\u001b[0m\u001b[0mextensions\u001b[0m\u001b[0;34m)\u001b[0m\u001b[0;34m)\u001b[0m\u001b[0;34m,\u001b[0m \u001b[0maxis\u001b[0m \u001b[0;34m=\u001b[0m \u001b[0;36m1\u001b[0m\u001b[0;34m)\u001b[0m\u001b[0;34m\u001b[0m\u001b[0;34m\u001b[0m\u001b[0m\n\u001b[0m\u001b[1;32m      5\u001b[0m \u001b[0mchord_progression_df\u001b[0m\u001b[0;34m[\u001b[0m\u001b[0;34m'chord'\u001b[0m\u001b[0;34m]\u001b[0m \u001b[0;34m=\u001b[0m \u001b[0mchord_progression_df\u001b[0m\u001b[0;34m.\u001b[0m\u001b[0mfunction_chord\u001b[0m\u001b[0;34m.\u001b[0m\u001b[0mapply\u001b[0m\u001b[0;34m(\u001b[0m\u001b[0;32mlambda\u001b[0m \u001b[0mx\u001b[0m\u001b[0;34m:\u001b[0m\u001b[0mx\u001b[0m\u001b[0;34m.\u001b[0m\u001b[0mchord\u001b[0m\u001b[0;34m)\u001b[0m\u001b[0;34m\u001b[0m\u001b[0;34m\u001b[0m\u001b[0m\n",
      "\u001b[0;32m~/anaconda3/lib/python3.8/site-packages/pandas/core/frame.py\u001b[0m in \u001b[0;36mapply\u001b[0;34m(self, func, axis, raw, result_type, args, **kwds)\u001b[0m\n\u001b[1;32m   7546\u001b[0m             \u001b[0mkwds\u001b[0m\u001b[0;34m=\u001b[0m\u001b[0mkwds\u001b[0m\u001b[0;34m,\u001b[0m\u001b[0;34m\u001b[0m\u001b[0;34m\u001b[0m\u001b[0m\n\u001b[1;32m   7547\u001b[0m         )\n\u001b[0;32m-> 7548\u001b[0;31m         \u001b[0;32mreturn\u001b[0m \u001b[0mop\u001b[0m\u001b[0;34m.\u001b[0m\u001b[0mget_result\u001b[0m\u001b[0;34m(\u001b[0m\u001b[0;34m)\u001b[0m\u001b[0;34m\u001b[0m\u001b[0;34m\u001b[0m\u001b[0m\n\u001b[0m\u001b[1;32m   7549\u001b[0m \u001b[0;34m\u001b[0m\u001b[0m\n\u001b[1;32m   7550\u001b[0m     \u001b[0;32mdef\u001b[0m \u001b[0mapplymap\u001b[0m\u001b[0;34m(\u001b[0m\u001b[0mself\u001b[0m\u001b[0;34m,\u001b[0m \u001b[0mfunc\u001b[0m\u001b[0;34m)\u001b[0m \u001b[0;34m->\u001b[0m \u001b[0;34m\"DataFrame\"\u001b[0m\u001b[0;34m:\u001b[0m\u001b[0;34m\u001b[0m\u001b[0;34m\u001b[0m\u001b[0m\n",
      "\u001b[0;32m~/anaconda3/lib/python3.8/site-packages/pandas/core/apply.py\u001b[0m in \u001b[0;36mget_result\u001b[0;34m(self)\u001b[0m\n\u001b[1;32m    178\u001b[0m             \u001b[0;32mreturn\u001b[0m \u001b[0mself\u001b[0m\u001b[0;34m.\u001b[0m\u001b[0mapply_raw\u001b[0m\u001b[0;34m(\u001b[0m\u001b[0;34m)\u001b[0m\u001b[0;34m\u001b[0m\u001b[0;34m\u001b[0m\u001b[0m\n\u001b[1;32m    179\u001b[0m \u001b[0;34m\u001b[0m\u001b[0m\n\u001b[0;32m--> 180\u001b[0;31m         \u001b[0;32mreturn\u001b[0m \u001b[0mself\u001b[0m\u001b[0;34m.\u001b[0m\u001b[0mapply_standard\u001b[0m\u001b[0;34m(\u001b[0m\u001b[0;34m)\u001b[0m\u001b[0;34m\u001b[0m\u001b[0;34m\u001b[0m\u001b[0m\n\u001b[0m\u001b[1;32m    181\u001b[0m \u001b[0;34m\u001b[0m\u001b[0m\n\u001b[1;32m    182\u001b[0m     \u001b[0;32mdef\u001b[0m \u001b[0mapply_empty_result\u001b[0m\u001b[0;34m(\u001b[0m\u001b[0mself\u001b[0m\u001b[0;34m)\u001b[0m\u001b[0;34m:\u001b[0m\u001b[0;34m\u001b[0m\u001b[0;34m\u001b[0m\u001b[0m\n",
      "\u001b[0;32m~/anaconda3/lib/python3.8/site-packages/pandas/core/apply.py\u001b[0m in \u001b[0;36mapply_standard\u001b[0;34m(self)\u001b[0m\n\u001b[1;32m    269\u001b[0m \u001b[0;34m\u001b[0m\u001b[0m\n\u001b[1;32m    270\u001b[0m     \u001b[0;32mdef\u001b[0m \u001b[0mapply_standard\u001b[0m\u001b[0;34m(\u001b[0m\u001b[0mself\u001b[0m\u001b[0;34m)\u001b[0m\u001b[0;34m:\u001b[0m\u001b[0;34m\u001b[0m\u001b[0;34m\u001b[0m\u001b[0m\n\u001b[0;32m--> 271\u001b[0;31m         \u001b[0mresults\u001b[0m\u001b[0;34m,\u001b[0m \u001b[0mres_index\u001b[0m \u001b[0;34m=\u001b[0m \u001b[0mself\u001b[0m\u001b[0;34m.\u001b[0m\u001b[0mapply_series_generator\u001b[0m\u001b[0;34m(\u001b[0m\u001b[0;34m)\u001b[0m\u001b[0;34m\u001b[0m\u001b[0;34m\u001b[0m\u001b[0m\n\u001b[0m\u001b[1;32m    272\u001b[0m \u001b[0;34m\u001b[0m\u001b[0m\n\u001b[1;32m    273\u001b[0m         \u001b[0;31m# wrap results\u001b[0m\u001b[0;34m\u001b[0m\u001b[0;34m\u001b[0m\u001b[0;34m\u001b[0m\u001b[0m\n",
      "\u001b[0;32m~/anaconda3/lib/python3.8/site-packages/pandas/core/apply.py\u001b[0m in \u001b[0;36mapply_series_generator\u001b[0;34m(self)\u001b[0m\n\u001b[1;32m    298\u001b[0m                 \u001b[0;32mfor\u001b[0m \u001b[0mi\u001b[0m\u001b[0;34m,\u001b[0m \u001b[0mv\u001b[0m \u001b[0;32min\u001b[0m \u001b[0menumerate\u001b[0m\u001b[0;34m(\u001b[0m\u001b[0mseries_gen\u001b[0m\u001b[0;34m)\u001b[0m\u001b[0;34m:\u001b[0m\u001b[0;34m\u001b[0m\u001b[0;34m\u001b[0m\u001b[0m\n\u001b[1;32m    299\u001b[0m                     \u001b[0;31m# ignore SettingWithCopy here in case the user mutates\u001b[0m\u001b[0;34m\u001b[0m\u001b[0;34m\u001b[0m\u001b[0;34m\u001b[0m\u001b[0m\n\u001b[0;32m--> 300\u001b[0;31m                     \u001b[0mresults\u001b[0m\u001b[0;34m[\u001b[0m\u001b[0mi\u001b[0m\u001b[0;34m]\u001b[0m \u001b[0;34m=\u001b[0m \u001b[0mself\u001b[0m\u001b[0;34m.\u001b[0m\u001b[0mf\u001b[0m\u001b[0;34m(\u001b[0m\u001b[0mv\u001b[0m\u001b[0;34m)\u001b[0m\u001b[0;34m\u001b[0m\u001b[0;34m\u001b[0m\u001b[0m\n\u001b[0m\u001b[1;32m    301\u001b[0m                     \u001b[0;32mif\u001b[0m \u001b[0misinstance\u001b[0m\u001b[0;34m(\u001b[0m\u001b[0mresults\u001b[0m\u001b[0;34m[\u001b[0m\u001b[0mi\u001b[0m\u001b[0;34m]\u001b[0m\u001b[0;34m,\u001b[0m \u001b[0mABCSeries\u001b[0m\u001b[0;34m)\u001b[0m\u001b[0;34m:\u001b[0m\u001b[0;34m\u001b[0m\u001b[0;34m\u001b[0m\u001b[0m\n\u001b[1;32m    302\u001b[0m                         \u001b[0;31m# If we have a view on v, we need to make a copy because\u001b[0m\u001b[0;34m\u001b[0m\u001b[0;34m\u001b[0m\u001b[0;34m\u001b[0m\u001b[0m\n",
      "\u001b[0;32m<ipython-input-41-b02c383d5457>\u001b[0m in \u001b[0;36m<lambda>\u001b[0;34m(x)\u001b[0m\n\u001b[1;32m      2\u001b[0m \u001b[0;31m#chord_progression_df = pd.DataFrame({\"bar\":[1,2,3,4],\"key\":['C']*4,\"mode\":['Ionian',\"Aeolian\",\"Ionian\",\"Ionian\"],\"degree\":[4,4,3,6],\"bar_time\":[1]*4})\u001b[0m\u001b[0;34m\u001b[0m\u001b[0;34m\u001b[0m\u001b[0;34m\u001b[0m\u001b[0m\n\u001b[1;32m      3\u001b[0m \u001b[0;34m\u001b[0m\u001b[0m\n\u001b[0;32m----> 4\u001b[0;31m \u001b[0mchord_progression_df\u001b[0m\u001b[0;34m[\u001b[0m\u001b[0;34m'function_chord'\u001b[0m\u001b[0;34m]\u001b[0m \u001b[0;34m=\u001b[0m \u001b[0mchord_progression_df\u001b[0m\u001b[0;34m.\u001b[0m\u001b[0mapply\u001b[0m\u001b[0;34m(\u001b[0m\u001b[0;32mlambda\u001b[0m \u001b[0mx\u001b[0m\u001b[0;34m:\u001b[0m \u001b[0;34m(\u001b[0m\u001b[0mFunctionalChord\u001b[0m\u001b[0;34m(\u001b[0m\u001b[0mkey\u001b[0m \u001b[0;34m=\u001b[0m \u001b[0mx\u001b[0m\u001b[0;34m.\u001b[0m\u001b[0mkey\u001b[0m\u001b[0;34m,\u001b[0m\u001b[0mmode_name\u001b[0m \u001b[0;34m=\u001b[0m \u001b[0mx\u001b[0m\u001b[0;34m[\u001b[0m\u001b[0;34m'mode'\u001b[0m\u001b[0;34m]\u001b[0m\u001b[0;34m,\u001b[0m\u001b[0mdegree\u001b[0m \u001b[0;34m=\u001b[0m \u001b[0mx\u001b[0m\u001b[0;34m.\u001b[0m\u001b[0mdegree\u001b[0m\u001b[0;34m,\u001b[0m\u001b[0mextensions\u001b[0m \u001b[0;34m=\u001b[0m \u001b[0mx\u001b[0m\u001b[0;34m.\u001b[0m\u001b[0mextensions\u001b[0m\u001b[0;34m)\u001b[0m\u001b[0;34m)\u001b[0m\u001b[0;34m,\u001b[0m \u001b[0maxis\u001b[0m \u001b[0;34m=\u001b[0m \u001b[0;36m1\u001b[0m\u001b[0;34m)\u001b[0m\u001b[0;34m\u001b[0m\u001b[0;34m\u001b[0m\u001b[0m\n\u001b[0m\u001b[1;32m      5\u001b[0m \u001b[0mchord_progression_df\u001b[0m\u001b[0;34m[\u001b[0m\u001b[0;34m'chord'\u001b[0m\u001b[0;34m]\u001b[0m \u001b[0;34m=\u001b[0m \u001b[0mchord_progression_df\u001b[0m\u001b[0;34m.\u001b[0m\u001b[0mfunction_chord\u001b[0m\u001b[0;34m.\u001b[0m\u001b[0mapply\u001b[0m\u001b[0;34m(\u001b[0m\u001b[0;32mlambda\u001b[0m \u001b[0mx\u001b[0m\u001b[0;34m:\u001b[0m\u001b[0mx\u001b[0m\u001b[0;34m.\u001b[0m\u001b[0mchord\u001b[0m\u001b[0;34m)\u001b[0m\u001b[0;34m\u001b[0m\u001b[0;34m\u001b[0m\u001b[0m\n",
      "\u001b[0;32m<ipython-input-37-424446911e64>\u001b[0m in \u001b[0;36m__init__\u001b[0;34m(self, key, mode_name, degree, extensions, *args, **kwargs)\u001b[0m\n\u001b[1;32m     19\u001b[0m         \u001b[0mself\u001b[0m\u001b[0;34m.\u001b[0m\u001b[0mnote_l\u001b[0m \u001b[0;34m=\u001b[0m \u001b[0;34m[\u001b[0m\u001b[0mnote_l\u001b[0m\u001b[0;34m[\u001b[0m\u001b[0mi\u001b[0m\u001b[0;34m-\u001b[0m\u001b[0;36m1\u001b[0m\u001b[0;34m]\u001b[0m \u001b[0;32mfor\u001b[0m \u001b[0mi\u001b[0m \u001b[0;32min\u001b[0m \u001b[0;34m[\u001b[0m\u001b[0;36m1\u001b[0m\u001b[0;34m,\u001b[0m\u001b[0;36m3\u001b[0m\u001b[0;34m,\u001b[0m\u001b[0;36m5\u001b[0m\u001b[0;34m,\u001b[0m\u001b[0;36m7\u001b[0m\u001b[0;34m]\u001b[0m\u001b[0;34m]\u001b[0m\u001b[0;34m\u001b[0m\u001b[0;34m\u001b[0m\u001b[0m\n\u001b[1;32m     20\u001b[0m \u001b[0;34m\u001b[0m\u001b[0m\n\u001b[0;32m---> 21\u001b[0;31m         \u001b[0mself\u001b[0m\u001b[0;34m.\u001b[0m\u001b[0mchord\u001b[0m \u001b[0;34m=\u001b[0m \u001b[0mChord\u001b[0m\u001b[0;34m(\u001b[0m\u001b[0mroot\u001b[0m\u001b[0;34m=\u001b[0m\u001b[0mself\u001b[0m\u001b[0;34m.\u001b[0m\u001b[0mnote_l\u001b[0m\u001b[0;34m[\u001b[0m\u001b[0;36m0\u001b[0m\u001b[0;34m]\u001b[0m\u001b[0;34m.\u001b[0m\u001b[0mname\u001b[0m\u001b[0;34m,\u001b[0m\u001b[0mother_notes\u001b[0m\u001b[0;34m=\u001b[0m\u001b[0mself\u001b[0m\u001b[0;34m.\u001b[0m\u001b[0mnote_l\u001b[0m\u001b[0;34m[\u001b[0m\u001b[0;36m1\u001b[0m\u001b[0;34m:\u001b[0m\u001b[0;34m]\u001b[0m\u001b[0;34m,\u001b[0m\u001b[0mextensions\u001b[0m \u001b[0;34m=\u001b[0m \u001b[0mextensions\u001b[0m\u001b[0;34m)\u001b[0m\u001b[0;34m\u001b[0m\u001b[0;34m\u001b[0m\u001b[0m\n\u001b[0m\u001b[1;32m     22\u001b[0m         \u001b[0mself\u001b[0m\u001b[0;34m.\u001b[0m\u001b[0mrepr_str\u001b[0m \u001b[0;34m=\u001b[0m \u001b[0mself\u001b[0m\u001b[0;34m.\u001b[0m\u001b[0mroman_numeral\u001b[0m\u001b[0;34m+\u001b[0m\u001b[0mself\u001b[0m\u001b[0;34m.\u001b[0m\u001b[0mchord\u001b[0m\u001b[0;34m.\u001b[0m\u001b[0mquality\u001b[0m\u001b[0;34m\u001b[0m\u001b[0;34m\u001b[0m\u001b[0m\n\u001b[1;32m     23\u001b[0m \u001b[0;34m\u001b[0m\u001b[0m\n",
      "\u001b[0;32m<ipython-input-35-044d1fd63800>\u001b[0m in \u001b[0;36m__init__\u001b[0;34m(self, root, quality, other_notes, extensions, *args, **kwargs)\u001b[0m\n\u001b[1;32m     56\u001b[0m             \u001b[0mself\u001b[0m\u001b[0;34m.\u001b[0m\u001b[0mextension_input\u001b[0m \u001b[0;34m=\u001b[0m \u001b[0;34m[\u001b[0m\u001b[0mi\u001b[0m\u001b[0;34m-\u001b[0m\u001b[0;36m7\u001b[0m \u001b[0;32mfor\u001b[0m \u001b[0mi\u001b[0m \u001b[0;32min\u001b[0m \u001b[0mself\u001b[0m\u001b[0;34m.\u001b[0m\u001b[0mextension_input\u001b[0m\u001b[0;34m]\u001b[0m\u001b[0;34m\u001b[0m\u001b[0;34m\u001b[0m\u001b[0m\n\u001b[1;32m     57\u001b[0m             \u001b[0mprint\u001b[0m\u001b[0;34m(\u001b[0m\u001b[0mself\u001b[0m\u001b[0;34m.\u001b[0m\u001b[0mmode\u001b[0m\u001b[0;34m,\u001b[0m\u001b[0mself\u001b[0m\u001b[0;34m.\u001b[0m\u001b[0mroot\u001b[0m\u001b[0;34m,\u001b[0m\u001b[0mself\u001b[0m\u001b[0;34m.\u001b[0m\u001b[0mextension\u001b[0m\u001b[0;34m)\u001b[0m\u001b[0;34m\u001b[0m\u001b[0;34m\u001b[0m\u001b[0m\n\u001b[0;32m---> 58\u001b[0;31m             \u001b[0mself\u001b[0m\u001b[0;34m.\u001b[0m\u001b[0mextension\u001b[0m \u001b[0;34m=\u001b[0m \u001b[0;34m[\u001b[0m\u001b[0mself\u001b[0m\u001b[0;34m.\u001b[0m\u001b[0mscale\u001b[0m\u001b[0;34m[\u001b[0m\u001b[0mi\u001b[0m\u001b[0;34m]\u001b[0m \u001b[0;32mfor\u001b[0m \u001b[0mi\u001b[0m \u001b[0;32min\u001b[0m \u001b[0mself\u001b[0m\u001b[0;34m.\u001b[0m\u001b[0mextension_input\u001b[0m\u001b[0;34m]\u001b[0m\u001b[0;34m\u001b[0m\u001b[0;34m\u001b[0m\u001b[0m\n\u001b[0m\u001b[1;32m     59\u001b[0m \u001b[0;34m\u001b[0m\u001b[0m\n\u001b[1;32m     60\u001b[0m         \u001b[0mself\u001b[0m\u001b[0;34m.\u001b[0m\u001b[0mname\u001b[0m \u001b[0;34m=\u001b[0m \u001b[0;34mf'{self.root}{self.quality}'\u001b[0m\u001b[0;34m\u001b[0m\u001b[0;34m\u001b[0m\u001b[0m\n",
      "\u001b[0;32m<ipython-input-35-044d1fd63800>\u001b[0m in \u001b[0;36m<listcomp>\u001b[0;34m(.0)\u001b[0m\n\u001b[1;32m     56\u001b[0m             \u001b[0mself\u001b[0m\u001b[0;34m.\u001b[0m\u001b[0mextension_input\u001b[0m \u001b[0;34m=\u001b[0m \u001b[0;34m[\u001b[0m\u001b[0mi\u001b[0m\u001b[0;34m-\u001b[0m\u001b[0;36m7\u001b[0m \u001b[0;32mfor\u001b[0m \u001b[0mi\u001b[0m \u001b[0;32min\u001b[0m \u001b[0mself\u001b[0m\u001b[0;34m.\u001b[0m\u001b[0mextension_input\u001b[0m\u001b[0;34m]\u001b[0m\u001b[0;34m\u001b[0m\u001b[0;34m\u001b[0m\u001b[0m\n\u001b[1;32m     57\u001b[0m             \u001b[0mprint\u001b[0m\u001b[0;34m(\u001b[0m\u001b[0mself\u001b[0m\u001b[0;34m.\u001b[0m\u001b[0mmode\u001b[0m\u001b[0;34m,\u001b[0m\u001b[0mself\u001b[0m\u001b[0;34m.\u001b[0m\u001b[0mroot\u001b[0m\u001b[0;34m,\u001b[0m\u001b[0mself\u001b[0m\u001b[0;34m.\u001b[0m\u001b[0mextension\u001b[0m\u001b[0;34m)\u001b[0m\u001b[0;34m\u001b[0m\u001b[0;34m\u001b[0m\u001b[0m\n\u001b[0;32m---> 58\u001b[0;31m             \u001b[0mself\u001b[0m\u001b[0;34m.\u001b[0m\u001b[0mextension\u001b[0m \u001b[0;34m=\u001b[0m \u001b[0;34m[\u001b[0m\u001b[0mself\u001b[0m\u001b[0;34m.\u001b[0m\u001b[0mscale\u001b[0m\u001b[0;34m[\u001b[0m\u001b[0mi\u001b[0m\u001b[0;34m]\u001b[0m \u001b[0;32mfor\u001b[0m \u001b[0mi\u001b[0m \u001b[0;32min\u001b[0m \u001b[0mself\u001b[0m\u001b[0;34m.\u001b[0m\u001b[0mextension_input\u001b[0m\u001b[0;34m]\u001b[0m\u001b[0;34m\u001b[0m\u001b[0;34m\u001b[0m\u001b[0m\n\u001b[0m\u001b[1;32m     59\u001b[0m \u001b[0;34m\u001b[0m\u001b[0m\n\u001b[1;32m     60\u001b[0m         \u001b[0mself\u001b[0m\u001b[0;34m.\u001b[0m\u001b[0mname\u001b[0m \u001b[0;34m=\u001b[0m \u001b[0;34mf'{self.root}{self.quality}'\u001b[0m\u001b[0;34m\u001b[0m\u001b[0;34m\u001b[0m\u001b[0m\n",
      "\u001b[0;31mAttributeError\u001b[0m: 'Chord' object has no attribute 'scale'"
     ]
    }
   ],
   "source": [
    "chord_progression_df = pd.DataFrame({\"bar\":[1,2,3,4],\"key\":['C']*4,\"mode\":['Ionian']*4,\"degree\":[2,5,1,1],\"bar_time\":[1]*4,'extensions':[None,[13],None,None]})\n",
    "#chord_progression_df = pd.DataFrame({\"bar\":[1,2,3,4],\"key\":['C']*4,\"mode\":['Ionian',\"Aeolian\",\"Ionian\",\"Ionian\"],\"degree\":[4,4,3,6],\"bar_time\":[1]*4})\n",
    "\n",
    "chord_progression_df['function_chord'] = chord_progression_df.apply(lambda x: (FunctionalChord(key = x.key,mode_name = x['mode'],degree = x.degree,extensions = x.extensions)), axis = 1)\n",
    "chord_progression_df['chord'] = chord_progression_df.function_chord.apply(lambda x:x.chord)\n"
   ]
  },
  {
   "cell_type": "code",
   "execution_count": null,
   "metadata": {},
   "outputs": [],
   "source": [
    "chord_progression_df"
   ]
  },
  {
   "cell_type": "code",
   "execution_count": null,
   "metadata": {},
   "outputs": [],
   "source": [
    "class Composer:\n",
    "    \"\"\"\n",
    "    chord_progression, a chord progression dataframe\n",
    "    \"\"\"\n",
    "    def __init__(self, cp_df, grid_unit = 1/8):\n",
    "        \n",
    "        cp_df['unit']=cp_df.bar_time.apply(lambda x: range(1,int(x/grid_unit)+1))  \n",
    "        self.cp_df = cp_df.explode(\"unit\")\n",
    "        \n",
    "    def get_playable_notes(tmp_chord):\n",
    "        pass\n",
    "        \n"
   ]
  },
  {
   "cell_type": "code",
   "execution_count": null,
   "metadata": {},
   "outputs": [],
   "source": [
    "Comp1 = Composer(chord_progression_df)\n",
    "\n",
    "Comp1.cp_df"
   ]
  },
  {
   "cell_type": "code",
   "execution_count": null,
   "metadata": {},
   "outputs": [],
   "source": []
  }
 ],
 "metadata": {
  "kernelspec": {
   "display_name": "Python 3",
   "language": "python",
   "name": "python3"
  },
  "language_info": {
   "codemirror_mode": {
    "name": "ipython",
    "version": 3
   },
   "file_extension": ".py",
   "mimetype": "text/x-python",
   "name": "python",
   "nbconvert_exporter": "python",
   "pygments_lexer": "ipython3",
   "version": "3.8.5"
  }
 },
 "nbformat": 4,
 "nbformat_minor": 4
}
