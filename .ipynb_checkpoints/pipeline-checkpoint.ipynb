{
 "cells": [
  {
   "cell_type": "code",
   "execution_count": 71,
   "metadata": {},
   "outputs": [],
   "source": [
    "from midiutil import MIDIFile\n",
    "import numpy as np\n",
    "import pygame\n",
    "import pandas as pd\n",
    "from collections import deque \n",
    "from functools import reduce\n"
   ]
  },
  {
   "cell_type": "code",
   "execution_count": null,
   "metadata": {},
   "outputs": [],
   "source": []
  },
  {
   "cell_type": "code",
   "execution_count": 61,
   "metadata": {},
   "outputs": [],
   "source": [
    "class note:\n",
    "\n",
    "    def __init__(self,name=None,n=None,shift=0):\n",
    "        \"\"\"\n",
    "        name is the note of a chord.\n",
    "        n represent relative location in the twelve equal temperament\n",
    "        shift = 0 means 4th octave.\n",
    "        \"\"\"\n",
    "        note_name_l = ['C','C#','Db','D','D#',\\\n",
    "                              'Eb','E','F','F#','Gb','G','G#','Ab','A','A#','Bb','B']\n",
    "        note_loc_l = [0, 1, 1, 2, 3, 3, 4, 5, 6, 6, 7, 8, 8, 9, 10, 10, 11]\n",
    "        convert_dict = dict(zip(note_name_l,note_loc_l))\n",
    "        rev_convert_dict = dict(zip(note_loc_l,note_name_l))\n",
    "        if name and (n is None):\n",
    "            self.name = name\n",
    "            self.shift = shift\n",
    "            self.n = convert_dict[self.name]+(self.shift+5)*12\n",
    "        elif n and (name is None):\n",
    "            self.n = n%12\n",
    "            self.shift = n//12-5\n",
    "            self.name = rev_convert_dict[self.n]\n",
    "            \n",
    "    def __repr__(self):\n",
    "        return f\"Note: {self.name} - Octave: {self.shift+4}\"\n",
    "    \n",
    "    def __str__(self):\n",
    "        return f\"Note: {self.name} - Octave: {self.shift+4}\"\n",
    "\n"
   ]
  },
  {
   "cell_type": "code",
   "execution_count": 82,
   "metadata": {},
   "outputs": [],
   "source": [
    "n = 60\n",
    "circle_of_fifth_distance = [2,2,1,2,2,2,1]"
   ]
  },
  {
   "cell_type": "code",
   "execution_count": 85,
   "metadata": {},
   "outputs": [],
   "source": [
    "mode_distance = deque(circle_of_fifth_distance)\n",
    "mode_distance.rotate(-1*self.sequence)\n",
    "\n",
    "mode_distance = list(mode_distance)[:-1]\n",
    "\n",
    "np.cumsum(mode_distance)+n"
   ]
  },
  {
   "cell_type": "code",
   "execution_count": 86,
   "metadata": {},
   "outputs": [
    {
     "data": {
      "text/plain": [
       "[2, 1, 2, 2, 2, 1, 2]"
      ]
     },
     "execution_count": 86,
     "metadata": {},
     "output_type": "execute_result"
    }
   ],
   "source": [
    "\n",
    "mode_distance"
   ]
  },
  {
   "cell_type": "code",
   "execution_count": 70,
   "metadata": {},
   "outputs": [
    {
     "data": {
      "text/plain": [
       "array([62, 64, 65, 67, 69, 71, 72])"
      ]
     },
     "execution_count": 70,
     "metadata": {},
     "output_type": "execute_result"
    }
   ],
   "source": [
    "\n",
    "\n",
    "np.cumsum(circle_of_fifth_distance)+n"
   ]
  },
  {
   "cell_type": "code",
   "execution_count": 68,
   "metadata": {},
   "outputs": [
    {
     "data": {
      "text/plain": [
       "12"
      ]
     },
     "execution_count": 68,
     "metadata": {},
     "output_type": "execute_result"
    }
   ],
   "source": [
    "reduce(lambda a,b : a+b, circle_of_fifth_distance)"
   ]
  },
  {
   "cell_type": "code",
   "execution_count": 95,
   "metadata": {},
   "outputs": [],
   "source": [
    "class mode:\n",
    "    def __init__(self,key,mode_name=None):\n",
    "        self.key = key\n",
    "        self.mode_name = mode_name\n",
    "        \n",
    "        mode_name_l = ['Ionian','Dorian','Phrygian','Lydian','Mixolydian','Aeolian','Locrian']\n",
    "        sequence_l = [0,1,2,3,4,5,6]\n",
    "        name_dict = dict(zip(mode_name_l,sequence_l))\n",
    "        \n",
    "        self.sequence = name_dict[self.mode_name]\n",
    "        \n",
    "        self.key_note = note(self.key).n\n",
    "        \n",
    "        circle_of_fifth_distance = circle_of_fifth_distance = [2,2,1,2,2,2,1]\n",
    "        \n",
    "        mode_distance = deque(circle_of_fifth_distance)\n",
    "        mode_distance.rotate(-1*self.sequence)\n",
    "        mode_distance = [0]+list(mode_distance)[:-1]\n",
    "\n",
    "        self.note_n_l = np.cumsum(mode_distance)+self.key_note\n",
    "        self.note_l = [note(n=i) for i in self.note_n_l]\n",
    "            \n",
    "    def __repr__(self):\n",
    "        return f\"Mode: {self.key} - {self.mode_name}\\n Notes: {','.join([i.name for i in self.note_l])}\"\n",
    "    \n",
    "    def __str__(self):\n",
    "        return f\"Note: {self.name} - Octave: {self.shift+4}\""
   ]
  },
  {
   "cell_type": "code",
   "execution_count": 99,
   "metadata": {},
   "outputs": [
    {
     "data": {
      "text/plain": [
       "Mode: A - Aeolian\n",
       " Notes: A,B,C,D,E,F,G"
      ]
     },
     "execution_count": 99,
     "metadata": {},
     "output_type": "execute_result"
    }
   ],
   "source": [
    "mode(\"A\",\"Aeolian\")"
   ]
  },
  {
   "cell_type": "code",
   "execution_count": null,
   "metadata": {},
   "outputs": [],
   "source": [
    "class chord:\n",
    "    \n",
    "    quality_dict = dict(zip(['Maj7','m7','dom7'],[[0,4,7,11],[0,3,7,10],[0,4,7,10]]))\n",
    "    \n",
    "    \n",
    "    def __init__(self, root, quality):\n",
    "        \"\"\"\n",
    "        root is name of the root note.\n",
    "        quality is quality of the chord. given root and quality we will get list of all notes.\n",
    "        --- selt.quality <- XMaj,Xm,XMaj7,Xm7,Xm6,Xdom7,Xm7b5,Xdim\n",
    "        --- self.mode \n",
    "        \"\"\"\n",
    "        \n",
    "        self.root = note(root)\n",
    "        self.quality = quality\n",
    "        self.quality_diff = np.array(quality_dict[quality])\n",
    "        self.shift = shift\n",
    "        \n",
    "        self.basic_notes_location = self.quality_diff+self.root_num\n",
    "\n",
    "        self.notes = self.quality_diff+self.root_num+self*12\n",
    "        \n",
    "        self.root_note = self.notes[0]\n",
    "        self.third = self.notes[1]\n",
    "        self.fifth = self.notes[2]\n",
    "        self.seventh = self.notes[3]\n",
    "        \n",
    "        tmp_l = []\n",
    "        for i in range(6):\n",
    "            i=i-3\n",
    "            tmp_l.append(self.centered_notes+i*12)\n",
    "        self.note_spectrum = tmp_l"
   ]
  },
  {
   "cell_type": "code",
   "execution_count": null,
   "metadata": {},
   "outputs": [],
   "source": [
    "chord(root,quality,voicing):\n",
    "    \"\"\"\n",
    "    given root and quality, we can calculate the spectrum of chord notes.\n",
    "    given a voicing, we can generate the realized notes and create backing track.\n",
    "    voicing is defined using a dataframe. each row is time, 1/16 notes. what note to play.\n",
    "    \"\"\"\n",
    "    \n",
    "    "
   ]
  },
  {
   "cell_type": "code",
   "execution_count": 4,
   "metadata": {},
   "outputs": [],
   "source": [
    "root_dict = dict(zip(['C','C#','Db','D','D#',\\\n",
    "                      'Eb','E','F','F#','Gb','G','G#','Ab','A','A#','Bb','B'],\\\n",
    "                     [60,61,61,62,63,63,\\\n",
    "                      64,65,66,66,67,68,68,69,70,70,71]))\n"
   ]
  },
  {
   "cell_type": "code",
   "execution_count": 5,
   "metadata": {},
   "outputs": [
    {
     "data": {
      "text/plain": [
       "{'C': 60,\n",
       " 'C#': 61,\n",
       " 'Db': 61,\n",
       " 'D': 62,\n",
       " 'D#': 63,\n",
       " 'Eb': 63,\n",
       " 'E': 64,\n",
       " 'F': 65,\n",
       " 'F#': 66,\n",
       " 'Gb': 66,\n",
       " 'G': 67,\n",
       " 'G#': 68,\n",
       " 'Ab': 68,\n",
       " 'A': 69,\n",
       " 'A#': 70,\n",
       " 'Bb': 70,\n",
       " 'B': 71}"
      ]
     },
     "execution_count": 5,
     "metadata": {},
     "output_type": "execute_result"
    }
   ],
   "source": [
    "root_dict"
   ]
  },
  {
   "cell_type": "code",
   "execution_count": null,
   "metadata": {},
   "outputs": [],
   "source": []
  }
 ],
 "metadata": {
  "kernelspec": {
   "display_name": "Python 3",
   "language": "python",
   "name": "python3"
  },
  "language_info": {
   "codemirror_mode": {
    "name": "ipython",
    "version": 3
   },
   "file_extension": ".py",
   "mimetype": "text/x-python",
   "name": "python",
   "nbconvert_exporter": "python",
   "pygments_lexer": "ipython3",
   "version": "3.8.5"
  }
 },
 "nbformat": 4,
 "nbformat_minor": 4
}
